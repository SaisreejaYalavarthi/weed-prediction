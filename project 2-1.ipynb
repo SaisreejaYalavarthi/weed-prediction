{
 "cells": [
  {
   "cell_type": "code",
   "execution_count": 15,
   "metadata": {},
   "outputs": [],
   "source": [
    "import keras\n",
    "# 3 layers of convolutional neural network cnn\n",
    "from keras.layers import Conv2D #convolution layer is being imported\n",
    "from keras.layers import MaxPooling2D #pooling layer\n",
    "from keras.layers import Flatten #flatten layer \n",
    "# artificial neural network ann\n",
    "from keras.models import Sequential #to initilise the model\n",
    "from keras.layers import Dense"
   ]
  },
  {
   "cell_type": "code",
   "execution_count": 16,
   "metadata": {},
   "outputs": [],
   "source": [
    "from keras.models import Sequential #to initilise the model\n",
    "model=Sequential() "
   ]
  },
  {
   "cell_type": "code",
   "execution_count": 17,
   "metadata": {},
   "outputs": [
    {
     "name": "stderr",
     "output_type": "stream",
     "text": [
      "C:\\Users\\Sai Sreeja\\Anaconda3\\lib\\site-packages\\ipykernel_launcher.py:1: UserWarning: Update your `Conv2D` call to the Keras 2 API: `Conv2D(32, (3, 3), input_shape=(64, 64, 3..., activation=\"softmax\")`\n",
      "  \"\"\"Entry point for launching an IPython kernel.\n"
     ]
    }
   ],
   "source": [
    "model.add(Conv2D(32,3,3,input_shape=(64,64,3),activation='softmax'))"
   ]
  },
  {
   "cell_type": "code",
   "execution_count": 18,
   "metadata": {},
   "outputs": [],
   "source": [
    "model.add(MaxPooling2D(pool_size=(2,2))) "
   ]
  },
  {
   "cell_type": "code",
   "execution_count": 19,
   "metadata": {},
   "outputs": [],
   "source": [
    "model.add(Flatten()) "
   ]
  },
  {
   "cell_type": "code",
   "execution_count": 20,
   "metadata": {},
   "outputs": [
    {
     "name": "stderr",
     "output_type": "stream",
     "text": [
      "C:\\Users\\Sai Sreeja\\Anaconda3\\lib\\site-packages\\ipykernel_launcher.py:1: UserWarning: Update your `Dense` call to the Keras 2 API: `Dense(activation=\"relu\", units=128, kernel_initializer=\"random_uniform\")`\n",
      "  \"\"\"Entry point for launching an IPython kernel.\n"
     ]
    }
   ],
   "source": [
    "model.add(Dense(output_dim=128,activation='relu',init='random_uniform')) "
   ]
  },
  {
   "cell_type": "code",
   "execution_count": 21,
   "metadata": {},
   "outputs": [
    {
     "name": "stderr",
     "output_type": "stream",
     "text": [
      "C:\\Users\\Sai Sreeja\\Anaconda3\\lib\\site-packages\\ipykernel_launcher.py:1: UserWarning: Update your `Dense` call to the Keras 2 API: `Dense(activation=\"softmax\", units=4, kernel_initializer=\"random_uniform\")`\n",
      "  \"\"\"Entry point for launching an IPython kernel.\n"
     ]
    }
   ],
   "source": [
    "model.add(Dense(output_dim=4,activation='softmax',init='random_uniform'))"
   ]
  },
  {
   "cell_type": "code",
   "execution_count": 22,
   "metadata": {},
   "outputs": [],
   "source": [
    "model.compile(optimizer='adam',loss='categorical_crossentropy',metrics=['accuracy'])"
   ]
  },
  {
   "cell_type": "code",
   "execution_count": 23,
   "metadata": {},
   "outputs": [],
   "source": [
    "from keras.preprocessing.image import ImageDataGenerator"
   ]
  },
  {
   "cell_type": "code",
   "execution_count": 24,
   "metadata": {},
   "outputs": [],
   "source": [
    "train_datagen=ImageDataGenerator(rescale=1./255,shear_range=0.2,zoom_range=0.2,horizontal_flip=True) #rescale:image has pixels,values are from 0-255 hence here rescale 1./255 is used;shear range rotates the image in clockwise ;zoom range is used to extract the features ;we use all these to avoid overfitting\n",
    "test_datagen=ImageDataGenerator(rescale=1./255)"
   ]
  },
  {
   "cell_type": "code",
   "execution_count": 25,
   "metadata": {},
   "outputs": [
    {
     "name": "stdout",
     "output_type": "stream",
     "text": [
      "Found 11992 images belonging to 4 classes.\n",
      "Found 3625 images belonging to 4 classes.\n"
     ]
    }
   ],
   "source": [
    "x_train=train_datagen.flow_from_directory(r\"C:\\Users\\Sai Sreeja\\Desktop\\DONE\\data_train\",target_size=(64,64),batch_size=32,class_mode='categorical')\n",
    "x_test=test_datagen.flow_from_directory(r\"C:\\Users\\Sai Sreeja\\Desktop\\DONE\\data_test\",target_size=(64,64),batch_size=32,class_mode='categorical')"
   ]
  },
  {
   "cell_type": "code",
   "execution_count": 26,
   "metadata": {},
   "outputs": [
    {
     "name": "stdout",
     "output_type": "stream",
     "text": [
      "{'broadleaf': 0, 'grass': 1, 'soil': 2, 'soyabean': 3}\n"
     ]
    }
   ],
   "source": [
    "print(x_train.class_indices)"
   ]
  },
  {
   "cell_type": "code",
   "execution_count": 27,
   "metadata": {},
   "outputs": [
    {
     "name": "stderr",
     "output_type": "stream",
     "text": [
      "C:\\Users\\Sai Sreeja\\Anaconda3\\lib\\site-packages\\ipykernel_launcher.py:1: UserWarning: The semantics of the Keras 2 argument `steps_per_epoch` is not the same as the Keras 1 argument `samples_per_epoch`. `steps_per_epoch` is the number of batches to draw from the generator at each epoch. Basically steps_per_epoch = samples_per_epoch/batch_size. Similarly `nb_val_samples`->`validation_steps` and `val_samples`->`steps` arguments have changed. Update your method calls accordingly.\n",
      "  \"\"\"Entry point for launching an IPython kernel.\n",
      "C:\\Users\\Sai Sreeja\\Anaconda3\\lib\\site-packages\\ipykernel_launcher.py:1: UserWarning: Update your `fit_generator` call to the Keras 2 API: `fit_generator(<keras_pre..., epochs=15, validation_data=<keras_pre..., steps_per_epoch=374, validation_steps=3625)`\n",
      "  \"\"\"Entry point for launching an IPython kernel.\n"
     ]
    },
    {
     "name": "stdout",
     "output_type": "stream",
     "text": [
      "Epoch 1/15\n",
      "374/374 [==============================] - 1612s 4s/step - loss: 0.9051 - acc: 0.6253 - val_loss: 0.6899 - val_acc: 0.6684\n",
      "Epoch 2/15\n",
      "374/374 [==============================] - 1661s 4s/step - loss: 0.5693 - acc: 0.7695 - val_loss: 0.5809 - val_acc: 0.7724\n",
      "Epoch 3/15\n",
      "374/374 [==============================] - 1459s 4s/step - loss: 0.5384 - acc: 0.7914 - val_loss: 0.5670 - val_acc: 0.7691\n",
      "Epoch 4/15\n",
      "374/374 [==============================] - 1379s 4s/step - loss: 0.5251 - acc: 0.7925 - val_loss: 0.5948 - val_acc: 0.7625\n",
      "Epoch 5/15\n",
      "374/374 [==============================] - 1346s 4s/step - loss: 0.5060 - acc: 0.8014 - val_loss: 0.6530 - val_acc: 0.7462\n",
      "Epoch 6/15\n",
      "374/374 [==============================] - 1352s 4s/step - loss: 0.4785 - acc: 0.8182 - val_loss: 0.5130 - val_acc: 0.7896\n",
      "Epoch 7/15\n",
      "374/374 [==============================] - 1381s 4s/step - loss: 0.4786 - acc: 0.8128 - val_loss: 0.5022 - val_acc: 0.8049\n",
      "Epoch 8/15\n",
      "374/374 [==============================] - 1349s 4s/step - loss: 0.4541 - acc: 0.8244 - val_loss: 0.4764 - val_acc: 0.8127\n",
      "Epoch 9/15\n",
      "374/374 [==============================] - 3186s 9s/step - loss: 0.4380 - acc: 0.8312 - val_loss: 0.4488 - val_acc: 0.8225\n",
      "Epoch 10/15\n",
      "374/374 [==============================] - 1555s 4s/step - loss: 0.4377 - acc: 0.8306 - val_loss: 0.4500 - val_acc: 0.8193\n",
      "Epoch 11/15\n",
      "374/374 [==============================] - 1537s 4s/step - loss: 0.4214 - acc: 0.8363 - val_loss: 0.4363 - val_acc: 0.8281\n",
      "Epoch 12/15\n",
      "374/374 [==============================] - 1516s 4s/step - loss: 0.4024 - acc: 0.8393 - val_loss: 0.4512 - val_acc: 0.8226\n",
      "Epoch 13/15\n",
      "374/374 [==============================] - 1430s 4s/step - loss: 0.4016 - acc: 0.8410 - val_loss: 0.4354 - val_acc: 0.8285\n",
      "Epoch 14/15\n",
      "374/374 [==============================] - 1383s 4s/step - loss: 0.3781 - acc: 0.8538 - val_loss: 0.4567 - val_acc: 0.8243\n",
      "Epoch 15/15\n",
      "374/374 [==============================] - 1581s 4s/step - loss: 0.3695 - acc: 0.8557 - val_loss: 0.3865 - val_acc: 0.8494\n"
     ]
    },
    {
     "data": {
      "text/plain": [
       "<keras.callbacks.History at 0x1d5d6399f28>"
      ]
     },
     "execution_count": 27,
     "metadata": {},
     "output_type": "execute_result"
    }
   ],
   "source": [
    "model.fit_generator(x_train,samples_per_epoch=11992,epochs=15,validation_data=x_test,nb_val_samples=3625)"
   ]
  },
  {
   "cell_type": "code",
   "execution_count": 28,
   "metadata": {},
   "outputs": [],
   "source": [
    "model.save(\"code.h5\")"
   ]
  },
  {
   "cell_type": "code",
   "execution_count": null,
   "metadata": {},
   "outputs": [],
   "source": []
  }
 ],
 "metadata": {
  "kernelspec": {
   "display_name": "Python 3",
   "language": "python",
   "name": "python3"
  },
  "language_info": {
   "codemirror_mode": {
    "name": "ipython",
    "version": 3
   },
   "file_extension": ".py",
   "mimetype": "text/x-python",
   "name": "python",
   "nbconvert_exporter": "python",
   "pygments_lexer": "ipython3",
   "version": "3.7.1"
  }
 },
 "nbformat": 4,
 "nbformat_minor": 2
}
